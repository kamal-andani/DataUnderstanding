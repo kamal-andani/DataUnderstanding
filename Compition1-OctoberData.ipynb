{
 "cells": [
  {
   "cell_type": "code",
   "execution_count": 1,
   "metadata": {},
   "outputs": [],
   "source": [
    "import pandas as pd\n",
    "import gmplot\n",
    "import matplotlib.pyplot as plt\n",
    "import numpy as np"
   ]
  },
  {
   "cell_type": "code",
   "execution_count": 2,
   "metadata": {},
   "outputs": [],
   "source": [
    "df=pd.read_excel('TransitData.xlsx')"
   ]
  },
  {
   "cell_type": "code",
   "execution_count": 3,
   "metadata": {},
   "outputs": [
    {
     "data": {
      "text/html": [
       "<div>\n",
       "<style scoped>\n",
       "    .dataframe tbody tr th:only-of-type {\n",
       "        vertical-align: middle;\n",
       "    }\n",
       "\n",
       "    .dataframe tbody tr th {\n",
       "        vertical-align: top;\n",
       "    }\n",
       "\n",
       "    .dataframe thead th {\n",
       "        text-align: right;\n",
       "    }\n",
       "</style>\n",
       "<table border=\"1\" class=\"dataframe\">\n",
       "  <thead>\n",
       "    <tr style=\"text-align: right;\">\n",
       "      <th></th>\n",
       "      <th>Date</th>\n",
       "      <th>Time</th>\n",
       "      <th>Class</th>\n",
       "      <th>Operation</th>\n",
       "      <th>Bus</th>\n",
       "      <th>Route</th>\n",
       "      <th>Latitude</th>\n",
       "      <th>Longitude</th>\n",
       "    </tr>\n",
       "  </thead>\n",
       "  <tbody>\n",
       "    <tr>\n",
       "      <td>0</td>\n",
       "      <td>2017-10-13</td>\n",
       "      <td>1900-01-01 03:03:05</td>\n",
       "      <td>ADULT</td>\n",
       "      <td>Exact Fare</td>\n",
       "      <td>1359</td>\n",
       "      <td>1</td>\n",
       "      <td>44.241325</td>\n",
       "      <td>-76.487697</td>\n",
       "    </tr>\n",
       "    <tr>\n",
       "      <td>1</td>\n",
       "      <td>2017-10-28</td>\n",
       "      <td>1900-01-01 03:03:06</td>\n",
       "      <td>QUEENS</td>\n",
       "      <td>Exact Fare</td>\n",
       "      <td>622</td>\n",
       "      <td>1</td>\n",
       "      <td>44.227135</td>\n",
       "      <td>-76.495527</td>\n",
       "    </tr>\n",
       "    <tr>\n",
       "      <td>2</td>\n",
       "      <td>2017-10-28</td>\n",
       "      <td>1900-01-01 03:03:08</td>\n",
       "      <td>QUEENS</td>\n",
       "      <td>Exact Fare</td>\n",
       "      <td>622</td>\n",
       "      <td>1</td>\n",
       "      <td>44.227135</td>\n",
       "      <td>-76.495527</td>\n",
       "    </tr>\n",
       "    <tr>\n",
       "      <td>3</td>\n",
       "      <td>2017-10-28</td>\n",
       "      <td>1900-01-01 03:03:34</td>\n",
       "      <td>QUEENS</td>\n",
       "      <td>Exact Fare</td>\n",
       "      <td>622</td>\n",
       "      <td>1</td>\n",
       "      <td>44.227827</td>\n",
       "      <td>-76.497048</td>\n",
       "    </tr>\n",
       "    <tr>\n",
       "      <td>4</td>\n",
       "      <td>2017-10-20</td>\n",
       "      <td>1900-01-01 03:03:35</td>\n",
       "      <td>ADULT</td>\n",
       "      <td>Pass (Multi-ride card)</td>\n",
       "      <td>1688</td>\n",
       "      <td>1</td>\n",
       "      <td>44.239152</td>\n",
       "      <td>-76.485933</td>\n",
       "    </tr>\n",
       "  </tbody>\n",
       "</table>\n",
       "</div>"
      ],
      "text/plain": [
       "        Date                Time   Class               Operation   Bus  Route  \\\n",
       "0 2017-10-13 1900-01-01 03:03:05   ADULT              Exact Fare  1359      1   \n",
       "1 2017-10-28 1900-01-01 03:03:06  QUEENS              Exact Fare   622      1   \n",
       "2 2017-10-28 1900-01-01 03:03:08  QUEENS              Exact Fare   622      1   \n",
       "3 2017-10-28 1900-01-01 03:03:34  QUEENS              Exact Fare   622      1   \n",
       "4 2017-10-20 1900-01-01 03:03:35   ADULT  Pass (Multi-ride card)  1688      1   \n",
       "\n",
       "    Latitude  Longitude  \n",
       "0  44.241325 -76.487697  \n",
       "1  44.227135 -76.495527  \n",
       "2  44.227135 -76.495527  \n",
       "3  44.227827 -76.497048  \n",
       "4  44.239152 -76.485933  "
      ]
     },
     "execution_count": 3,
     "metadata": {},
     "output_type": "execute_result"
    }
   ],
   "source": [
    "df.head()\n",
    "    "
   ]
  },
  {
   "cell_type": "code",
   "execution_count": 4,
   "metadata": {},
   "outputs": [],
   "source": [
    "date=df['Date']"
   ]
  },
  {
   "cell_type": "code",
   "execution_count": 5,
   "metadata": {},
   "outputs": [],
   "source": [
    "weekday=[ i.strftime(\"%w\") for i in date]"
   ]
  },
  {
   "cell_type": "code",
   "execution_count": 6,
   "metadata": {},
   "outputs": [],
   "source": [
    "monthday=[i.strftime(\"%d\") for i in date]"
   ]
  },
  {
   "cell_type": "code",
   "execution_count": 7,
   "metadata": {},
   "outputs": [],
   "source": [
    "time=df['Time']"
   ]
  },
  {
   "cell_type": "code",
   "execution_count": 8,
   "metadata": {},
   "outputs": [],
   "source": [
    "hour = [i.strftime(\"%H\") for i in time]"
   ]
  },
  {
   "cell_type": "code",
   "execution_count": 9,
   "metadata": {},
   "outputs": [],
   "source": [
    "minute=[i.strftime(\"%M\") for i in time]"
   ]
  },
  {
   "cell_type": "code",
   "execution_count": 10,
   "metadata": {
    "scrolled": false
   },
   "outputs": [],
   "source": [
    "newdf=df.copy()"
   ]
  },
  {
   "cell_type": "code",
   "execution_count": 11,
   "metadata": {},
   "outputs": [],
   "source": [
    "newdf['weekday']=weekday\n",
    "newdf['monthday']=monthday\n",
    "newdf['hour']=hour\n",
    "newdf['minute']=minute"
   ]
  },
  {
   "cell_type": "code",
   "execution_count": 12,
   "metadata": {},
   "outputs": [],
   "source": [
    "newdf.drop(['Bus','Date','Time'],axis=1, inplace=True)"
   ]
  },
  {
   "cell_type": "code",
   "execution_count": 13,
   "metadata": {},
   "outputs": [],
   "source": [
    "newdf['Class']=[i.lower() for i in newdf['Class']]"
   ]
  },
  {
   "cell_type": "code",
   "execution_count": null,
   "metadata": {},
   "outputs": [],
   "source": []
  },
  {
   "cell_type": "code",
   "execution_count": 14,
   "metadata": {},
   "outputs": [
    {
     "data": {
      "text/html": [
       "<div>\n",
       "<style scoped>\n",
       "    .dataframe tbody tr th:only-of-type {\n",
       "        vertical-align: middle;\n",
       "    }\n",
       "\n",
       "    .dataframe tbody tr th {\n",
       "        vertical-align: top;\n",
       "    }\n",
       "\n",
       "    .dataframe thead th {\n",
       "        text-align: right;\n",
       "    }\n",
       "</style>\n",
       "<table border=\"1\" class=\"dataframe\">\n",
       "  <thead>\n",
       "    <tr style=\"text-align: right;\">\n",
       "      <th></th>\n",
       "      <th>Class</th>\n",
       "      <th>Operation</th>\n",
       "      <th>Route</th>\n",
       "      <th>Latitude</th>\n",
       "      <th>Longitude</th>\n",
       "      <th>weekday</th>\n",
       "      <th>monthday</th>\n",
       "      <th>hour</th>\n",
       "      <th>minute</th>\n",
       "    </tr>\n",
       "  </thead>\n",
       "  <tbody>\n",
       "    <tr>\n",
       "      <td>0</td>\n",
       "      <td>adult</td>\n",
       "      <td>Exact Fare</td>\n",
       "      <td>1</td>\n",
       "      <td>44.241325</td>\n",
       "      <td>-76.487697</td>\n",
       "      <td>5</td>\n",
       "      <td>13</td>\n",
       "      <td>03</td>\n",
       "      <td>03</td>\n",
       "    </tr>\n",
       "    <tr>\n",
       "      <td>1</td>\n",
       "      <td>queens</td>\n",
       "      <td>Exact Fare</td>\n",
       "      <td>1</td>\n",
       "      <td>44.227135</td>\n",
       "      <td>-76.495527</td>\n",
       "      <td>6</td>\n",
       "      <td>28</td>\n",
       "      <td>03</td>\n",
       "      <td>03</td>\n",
       "    </tr>\n",
       "    <tr>\n",
       "      <td>2</td>\n",
       "      <td>queens</td>\n",
       "      <td>Exact Fare</td>\n",
       "      <td>1</td>\n",
       "      <td>44.227135</td>\n",
       "      <td>-76.495527</td>\n",
       "      <td>6</td>\n",
       "      <td>28</td>\n",
       "      <td>03</td>\n",
       "      <td>03</td>\n",
       "    </tr>\n",
       "    <tr>\n",
       "      <td>3</td>\n",
       "      <td>queens</td>\n",
       "      <td>Exact Fare</td>\n",
       "      <td>1</td>\n",
       "      <td>44.227827</td>\n",
       "      <td>-76.497048</td>\n",
       "      <td>6</td>\n",
       "      <td>28</td>\n",
       "      <td>03</td>\n",
       "      <td>03</td>\n",
       "    </tr>\n",
       "    <tr>\n",
       "      <td>4</td>\n",
       "      <td>adult</td>\n",
       "      <td>Pass (Multi-ride card)</td>\n",
       "      <td>1</td>\n",
       "      <td>44.239152</td>\n",
       "      <td>-76.485933</td>\n",
       "      <td>5</td>\n",
       "      <td>20</td>\n",
       "      <td>03</td>\n",
       "      <td>03</td>\n",
       "    </tr>\n",
       "    <tr>\n",
       "      <td>...</td>\n",
       "      <td>...</td>\n",
       "      <td>...</td>\n",
       "      <td>...</td>\n",
       "      <td>...</td>\n",
       "      <td>...</td>\n",
       "      <td>...</td>\n",
       "      <td>...</td>\n",
       "      <td>...</td>\n",
       "      <td>...</td>\n",
       "    </tr>\n",
       "    <tr>\n",
       "      <td>704534</td>\n",
       "      <td>transpass</td>\n",
       "      <td>Pass (Multi-ride card)</td>\n",
       "      <td>701</td>\n",
       "      <td>44.232060</td>\n",
       "      <td>-76.491380</td>\n",
       "      <td>5</td>\n",
       "      <td>27</td>\n",
       "      <td>23</td>\n",
       "      <td>45</td>\n",
       "    </tr>\n",
       "    <tr>\n",
       "      <td>704535</td>\n",
       "      <td>youth</td>\n",
       "      <td>Pass (Multi-ride card)</td>\n",
       "      <td>701</td>\n",
       "      <td>44.243758</td>\n",
       "      <td>-76.495127</td>\n",
       "      <td>1</td>\n",
       "      <td>30</td>\n",
       "      <td>23</td>\n",
       "      <td>45</td>\n",
       "    </tr>\n",
       "    <tr>\n",
       "      <td>704536</td>\n",
       "      <td>student</td>\n",
       "      <td>Pass (Multi-ride card)</td>\n",
       "      <td>701</td>\n",
       "      <td>44.232057</td>\n",
       "      <td>-76.491352</td>\n",
       "      <td>6</td>\n",
       "      <td>28</td>\n",
       "      <td>23</td>\n",
       "      <td>45</td>\n",
       "    </tr>\n",
       "    <tr>\n",
       "      <td>704537</td>\n",
       "      <td>youth</td>\n",
       "      <td>Pass (Multi-ride card)</td>\n",
       "      <td>701</td>\n",
       "      <td>44.243750</td>\n",
       "      <td>-76.495208</td>\n",
       "      <td>5</td>\n",
       "      <td>20</td>\n",
       "      <td>23</td>\n",
       "      <td>47</td>\n",
       "    </tr>\n",
       "    <tr>\n",
       "      <td>704538</td>\n",
       "      <td>adult</td>\n",
       "      <td>Pass (Multi-ride card)</td>\n",
       "      <td>701</td>\n",
       "      <td>44.243755</td>\n",
       "      <td>-76.495197</td>\n",
       "      <td>4</td>\n",
       "      <td>19</td>\n",
       "      <td>23</td>\n",
       "      <td>47</td>\n",
       "    </tr>\n",
       "  </tbody>\n",
       "</table>\n",
       "<p>704539 rows × 9 columns</p>\n",
       "</div>"
      ],
      "text/plain": [
       "            Class               Operation  Route   Latitude  Longitude  \\\n",
       "0           adult              Exact Fare      1  44.241325 -76.487697   \n",
       "1          queens              Exact Fare      1  44.227135 -76.495527   \n",
       "2          queens              Exact Fare      1  44.227135 -76.495527   \n",
       "3          queens              Exact Fare      1  44.227827 -76.497048   \n",
       "4           adult  Pass (Multi-ride card)      1  44.239152 -76.485933   \n",
       "...           ...                     ...    ...        ...        ...   \n",
       "704534  transpass  Pass (Multi-ride card)    701  44.232060 -76.491380   \n",
       "704535      youth  Pass (Multi-ride card)    701  44.243758 -76.495127   \n",
       "704536    student  Pass (Multi-ride card)    701  44.232057 -76.491352   \n",
       "704537      youth  Pass (Multi-ride card)    701  44.243750 -76.495208   \n",
       "704538      adult  Pass (Multi-ride card)    701  44.243755 -76.495197   \n",
       "\n",
       "       weekday monthday hour minute  \n",
       "0            5       13   03     03  \n",
       "1            6       28   03     03  \n",
       "2            6       28   03     03  \n",
       "3            6       28   03     03  \n",
       "4            5       20   03     03  \n",
       "...        ...      ...  ...    ...  \n",
       "704534       5       27   23     45  \n",
       "704535       1       30   23     45  \n",
       "704536       6       28   23     45  \n",
       "704537       5       20   23     47  \n",
       "704538       4       19   23     47  \n",
       "\n",
       "[704539 rows x 9 columns]"
      ]
     },
     "execution_count": 14,
     "metadata": {},
     "output_type": "execute_result"
    }
   ],
   "source": [
    "newdf"
   ]
  },
  {
   "cell_type": "code",
   "execution_count": 15,
   "metadata": {},
   "outputs": [],
   "source": [
    "weekday_grp=newdf.groupby(\"weekday\")['monthday'].count()\n",
    "hour_grp=newdf.groupby(\"hour\")['weekday'].count()\n",
    "class_grp=newdf.groupby(\"Class\")['weekday'].count()\n",
    "route_grp=newdf.groupby(\"Route\")['weekday'].count()"
   ]
  },
  {
   "cell_type": "code",
   "execution_count": 16,
   "metadata": {},
   "outputs": [
    {
     "data": {
      "text/plain": [
       "Class\n",
       "adult          194365\n",
       "child           31516\n",
       "commuter         7241\n",
       "queens         219294\n",
       "senior          28070\n",
       "st lawrence     87374\n",
       "student         65591\n",
       "transpass       45460\n",
       "youth           25628\n",
       "Name: weekday, dtype: int64"
      ]
     },
     "execution_count": 16,
     "metadata": {},
     "output_type": "execute_result"
    }
   ],
   "source": [
    "class_grp"
   ]
  },
  {
   "cell_type": "code",
   "execution_count": 17,
   "metadata": {},
   "outputs": [],
   "source": [
    "weekday_names=['Sunday','Monday','Tuesday','Wednesday','Thursday','Friday','Saturday']\n",
    "hour_label=list(range(0,24))\n",
    "class_names=['Adult','Child','Commuter','Queens','Senior','SLC','Student','TransitPass','Youth']\n",
    "route_id=set(newdf['Route'])"
   ]
  },
  {
   "cell_type": "code",
   "execution_count": 18,
   "metadata": {},
   "outputs": [],
   "source": [
    "hgrp=np.array(list(range(0,24)))"
   ]
  },
  {
   "cell_type": "code",
   "execution_count": 19,
   "metadata": {},
   "outputs": [],
   "source": [
    "for i in range(0,23):\n",
    "    if i<4:\n",
    "        hgrp[i]=hour_grp[i]\n",
    "    else:\n",
    "        hgrp[i+1]=hour_grp[i]\n",
    "    "
   ]
  },
  {
   "cell_type": "code",
   "execution_count": 20,
   "metadata": {},
   "outputs": [],
   "source": [
    "hgrp[4]=0"
   ]
  },
  {
   "cell_type": "code",
   "execution_count": 21,
   "metadata": {},
   "outputs": [
    {
     "data": {
      "image/png": "[encoded data removed]",
      "text/plain": [
       "<Figure size 432x288 with 1 Axes>"
      ]
     },
     "metadata": {
      "needs_background": "light"
     },
     "output_type": "display_data"
    }
   ],
   "source": [
    "plt.plot(hour_label,hgrp)\n",
    "plt.title('Hourly Passenger count')\n",
    "plt.xlabel('Hour')\n",
    "plt.ylabel('Passenger Count')\n",
    "plt.xticks(np.arange(0,24,2))\n",
    "plt.show()"
   ]
  },
  {
   "cell_type": "code",
   "execution_count": null,
   "metadata": {},
   "outputs": [],
   "source": []
  },
  {
   "cell_type": "code",
   "execution_count": 22,
   "metadata": {},
   "outputs": [],
   "source": [
    "class_grp2=newdf.groupby(\"Class\")['weekday'].count()"
   ]
  },
  {
   "cell_type": "code",
   "execution_count": 23,
   "metadata": {},
   "outputs": [],
   "source": [
    "class_grp2=[ (i*100)/len(newdf) for i in class_grp2]"
   ]
  },
  {
   "cell_type": "code",
   "execution_count": 24,
   "metadata": {
    "scrolled": true
   },
   "outputs": [
    {
     "data": {
      "image/png": "[encoded data removed]",
      "text/plain": [
       "<Figure size 504x504 with 1 Axes>"
      ]
     },
     "metadata": {},
     "output_type": "display_data"
    }
   ],
   "source": [
    "fig1,ax1=plt.subplots(figsize=(7,7))\n",
    "explode=(0.15,0,0,0.05,0,0,0,0,0)\n",
    "ax1.pie(class_grp2,explode=explode,labels=class_names,shadow=False,autopct='%1.1f%%')\n",
    "ax1.axis('equal')\n",
    "plt.show()"
   ]
  },
  {
   "cell_type": "code",
   "execution_count": 25,
   "metadata": {},
   "outputs": [
    {
     "data": {
      "image/png": "[encoded data removed]",
      "text/plain": [
       "<Figure size 576x576 with 1 Axes>"
      ]
     },
     "metadata": {
      "needs_background": "light"
     },
     "output_type": "display_data"
    }
   ],
   "source": [
    "fig2,ax2=plt.subplots(figsize=(8,8))\n",
    "ax2.bar(weekday_names,weekday_grp,align='center',alpha=0.5)\n",
    "plt.xlabel('Days')\n",
    "plt.ylabel('Number of Passengers')\n",
    "plt.title('Number of people using Bus services on different days of October 2017')\n",
    "plt.show()"
   ]
  },
  {
   "cell_type": "code",
   "execution_count": null,
   "metadata": {},
   "outputs": [],
   "source": []
  },
  {
   "cell_type": "code",
   "execution_count": 26,
   "metadata": {},
   "outputs": [
    {
     "data": {
      "image/png": "[encoded data removed]",
      "text/plain": [
       "<Figure size 720x504 with 1 Axes>"
      ]
     },
     "metadata": {
      "needs_background": "light"
     },
     "output_type": "display_data"
    }
   ],
   "source": [
    "route_id=list(route_id)\n",
    "route_id=[str(i) for i in route_id]\n",
    "n_route=np.arange(len(route_id))\n",
    "\n",
    "\n",
    "fig3,ax3=plt.subplots(figsize=(10,7))\n",
    "ax3.barh(route_id,route_grp,align='center',alpha=0.5)\n",
    "plt.yticks(n_route,route_id)\n",
    "plt.xlabel('Passangers ')\n",
    "plt.ylabel('Bus Route')\n",
    "plt.title('Number of people travelled on different bus routes in Ocober,2017')\n",
    "plt.show()"
   ]
  },
  {
   "cell_type": "code",
   "execution_count": null,
   "metadata": {},
   "outputs": [],
   "source": []
  }
 ],
 "metadata": {
  "kernelspec": {
   "display_name": "Python 3",
   "language": "python",
   "name": "python3"
  },
  "language_info": {
   "codemirror_mode": {
    "name": "ipython",
    "version": 3
   },
   "file_extension": ".py",
   "mimetype": "text/x-python",
   "name": "python",
   "nbconvert_exporter": "python",
   "pygments_lexer": "ipython3",
   "version": "3.7.4"
  }
 },
 "nbformat": 4,
 "nbformat_minor": 2
}
